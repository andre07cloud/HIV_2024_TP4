{
 "cells": [
  {
   "cell_type": "markdown",
   "metadata": {},
   "source": [
    "## LAB 4 notbook\n",
    "## LLM testing"
   ]
  },
  {
   "cell_type": "code",
   "execution_count": 5,
   "metadata": {},
   "outputs": [],
   "source": [
    "from poly_llm.to_test.file_name_check import file_name_check\n",
    "from poly_llm.to_test.closest_integer import closest_integer\n",
    "from poly_llm.common.abstract_executor import AbstractExecutor\n",
    "from poly_llm.common.prompt_generator import PromptGenerator\n",
    "from poly_llm.generators.llm_test_generator import LLMTestGenerator\n",
    "from transformers import AutoTokenizer, T5ForConditionalGeneration\n",
    "import json\n",
    "\n",
    "import importlib"
   ]
  },
  {
   "cell_type": "markdown",
   "metadata": {},
   "source": [
    "### Measuring the code coverage"
   ]
  },
  {
   "cell_type": "code",
   "execution_count": 6,
   "metadata": {},
   "outputs": [
    {
     "name": "stdout",
     "output_type": "stream",
     "text": [
      "{'input': 'example.txt', 'exceptions': 0, 'execution_time': 0.00026226043701171875, 'coverage': {'covered_lines': 9, 'num_statements': 15, 'percent_covered': 59.25925925925926, 'percent_covered_display': '59', 'missing_lines': 6, 'excluded_lines': 4, 'num_branches': 12, 'num_partial_branches': 5, 'covered_branches': 7, 'missing_branches': 5}}\n",
      "{'input': '1example.dll', 'exceptions': 0, 'execution_time': 0.00010919570922851562, 'coverage': {'covered_lines': 7, 'num_statements': 15, 'percent_covered': 40.74074074074074, 'percent_covered_display': '41', 'missing_lines': 8, 'excluded_lines': 4, 'num_branches': 12, 'num_partial_branches': 4, 'covered_branches': 4, 'missing_branches': 8}}\n",
      "{'input': 's1sdf3.asd', 'exceptions': 0, 'execution_time': 0.0001385211944580078, 'coverage': {'covered_lines': 5, 'num_statements': 15, 'percent_covered': 25.925925925925927, 'percent_covered_display': '26', 'missing_lines': 10, 'excluded_lines': 4, 'num_branches': 12, 'num_partial_branches': 2, 'covered_branches': 2, 'missing_branches': 10}}\n",
      "{'input': 'K.dll', 'exceptions': 0, 'execution_time': 0.00010180473327636719, 'coverage': {'covered_lines': 9, 'num_statements': 15, 'percent_covered': 59.25925925925926, 'percent_covered_display': '59', 'missing_lines': 6, 'excluded_lines': 4, 'num_branches': 12, 'num_partial_branches': 5, 'covered_branches': 7, 'missing_branches': 5}}\n",
      "{'input': 'MY16FILE3.exe', 'exceptions': 0, 'execution_time': 0.00010442733764648438, 'coverage': {'covered_lines': 9, 'num_statements': 15, 'percent_covered': 59.25925925925926, 'percent_covered_display': '59', 'missing_lines': 6, 'excluded_lines': 4, 'num_branches': 12, 'num_partial_branches': 5, 'covered_branches': 7, 'missing_branches': 5}}\n",
      "{'input': 'His12FILE94.exe', 'exceptions': 0, 'execution_time': 0.00011301040649414062, 'coverage': {'covered_lines': 9, 'num_statements': 15, 'percent_covered': 59.25925925925926, 'percent_covered_display': '59', 'missing_lines': 6, 'excluded_lines': 4, 'num_branches': 12, 'num_partial_branches': 5, 'covered_branches': 7, 'missing_branches': 5}}\n",
      "{'input': '_Y.txt', 'exceptions': 0, 'execution_time': 0.00010013580322265625, 'coverage': {'covered_lines': 7, 'num_statements': 15, 'percent_covered': 40.74074074074074, 'percent_covered_display': '41', 'missing_lines': 8, 'excluded_lines': 4, 'num_branches': 12, 'num_partial_branches': 4, 'covered_branches': 4, 'missing_branches': 8}}\n",
      "{'input': '?aREYA.exe', 'exceptions': 0, 'execution_time': 0.00012612342834472656, 'coverage': {'covered_lines': 7, 'num_statements': 15, 'percent_covered': 40.74074074074074, 'percent_covered_display': '41', 'missing_lines': 8, 'excluded_lines': 4, 'num_branches': 12, 'num_partial_branches': 4, 'covered_branches': 4, 'missing_branches': 8}}\n",
      "{'input': '/this_is_valid.dll', 'exceptions': 0, 'execution_time': 0.00013399124145507812, 'coverage': {'covered_lines': 7, 'num_statements': 15, 'percent_covered': 40.74074074074074, 'percent_covered_display': '41', 'missing_lines': 8, 'excluded_lines': 4, 'num_branches': 12, 'num_partial_branches': 4, 'covered_branches': 4, 'missing_branches': 8}}\n",
      "{'input': 'this_is_valid.wow', 'exceptions': 0, 'execution_time': 0.00011920928955078125, 'coverage': {'covered_lines': 5, 'num_statements': 15, 'percent_covered': 25.925925925925927, 'percent_covered_display': '26', 'missing_lines': 10, 'excluded_lines': 4, 'num_branches': 12, 'num_partial_branches': 2, 'covered_branches': 2, 'missing_branches': 10}}\n"
     ]
    }
   ],
   "source": [
    "executor = AbstractExecutor(file_name_check)\n",
    "\n",
    "inputs = [\n",
    "    \"example.txt\",\n",
    "    \"1example.dll\",\n",
    "    's1sdf3.asd',\n",
    "    'K.dll',\n",
    "    'MY16FILE3.exe',\n",
    "    'His12FILE94.exe',\n",
    "    '_Y.txt',\n",
    "    '?aREYA.exe',\n",
    "    '/this_is_valid.dll',\n",
    "    'this_is_valid.wow',\n",
    "]\n",
    "\n",
    "# Execute the inputs and print the results\n",
    "for input in inputs:\n",
    "    #exceptions, execution_time, coverage = executor._execute_input(input)\n",
    "    coverage_date = executor._execute_input(input)\n",
    "    print(coverage_date)"
   ]
  },
  {
   "cell_type": "markdown",
   "metadata": {},
   "source": [
    "### Running the promt with the LLM"
   ]
  },
  {
   "cell_type": "code",
   "execution_count": 7,
   "metadata": {},
   "outputs": [
    {
     "name": "stdout",
     "output_type": "stream",
     "text": [
      "THE PROMPT Generate tests for the function file_name_check \n",
      " Code \n",
      "def file_name_check(file_name):\n",
      "    \n",
      "    suf = ['txt', 'exe', 'dll']\n",
      "    lst = file_name.split(sep='.')\n",
      "    if len(lst) != 2:\n",
      "        return 'No'\n",
      "    if not lst[1] in suf:\n",
      "        return 'No'\n",
      "    if len(lst[0]) == 0:\n",
      "        return 'No'\n",
      "    if not lst[0][0].isalpha():\n",
      "        return 'No'\n",
      "    t = len([x for x in lst[0] if x.isdigit()])\n",
      "    if t > 3:\n",
      "        return 'No'\n",
      "    return 'Yes'\n",
      "\n",
      "Test \n",
      "def test_file_name_check(): \n",
      " \n",
      "assert file_name_check(\"example.txt\") == 'Yes'  \n",
      "\n",
      "assert file_name_check(\"1example.dll\") == 'No' \n",
      "\n",
      "Code \n",
      "def file_name_check(file_name):\n",
      "    \n",
      "    suf = ['txt', 'exe', 'dll']\n",
      "    lst = file_name.split(sep='.')\n",
      "    if len(lst) != 2:\n",
      "        return 'No'\n",
      "    if not lst[1] in suf:\n",
      "        return 'No'\n",
      "    if len(lst[0]) == 0:\n",
      "        return 'No'\n",
      "    if not lst[0][0].isalpha():\n",
      "        return 'No'\n",
      "    t = len([x for x in lst[0] if x.isdigit()])\n",
      "    if t > 3:\n",
      "        return 'No'\n",
      "    return 'Yes'\n",
      "\n",
      "Test \n",
      "def test_file_name_check():\n",
      "\n"
     ]
    }
   ],
   "source": [
    "executor = AbstractExecutor(file_name_check)\n",
    "prompt_generator = PromptGenerator(file_name_check)\n",
    "\n",
    "model_name = \"Salesforce/codet5-large-ntp-py\"\n",
    "tokenizer = AutoTokenizer.from_pretrained(model_name) #tokenizer#AutoTokenizer.from_pretrained(\"codellama/CodeLlama-7b-Python-hf\")#\n",
    "model = T5ForConditionalGeneration.from_pretrained(model_name) \n",
    "\n",
    "llm_generator = LLMTestGenerator(model, tokenizer, file_name_check)\n",
    "prompt = prompt_generator.generate_prompt(few_shot_examples=['''def test_file_name_check(): \\n \n",
    "assert file_name_check(\"example.txt\") == 'Yes'  \\n\n",
    "assert file_name_check(\"1example.dll\") == 'No' \\n'''])\n",
    "\n",
    "print(f\"THE PROMPT {prompt}\")\n",
    "test, test_name = llm_generator.create_test_function(prompt)\n"
   ]
  },
  {
   "cell_type": "markdown",
   "metadata": {},
   "source": [
    "### Measuring the coverage achived by the LLM produced code"
   ]
  },
  {
   "cell_type": "code",
   "execution_count": 9,
   "metadata": {},
   "outputs": [
    {
     "name": "stdout",
     "output_type": "stream",
     "text": [
      "Test function written to test_generated.py\n",
      "{'input': <function file_name_check at 0x7c30dc0b2550>, 'exceptions': 0, 'execution_time': 0.00036215782165527344, 'coverage': {'covered_lines': 16, 'num_statements': 29, 'percent_covered': 58.53658536585366, 'percent_covered_display': '59', 'missing_lines': 13, 'excluded_lines': 4, 'num_branches': 12, 'num_partial_branches': 4, 'covered_branches': 8, 'missing_branches': 4}}\n"
     ]
    }
   ],
   "source": [
    "filename = \"test_generated.py\"\n",
    "llm_generator.write_test_to_file(test, filename=filename)\n",
    "\n",
    "module_name = filename.split(\".\")[0]\n",
    "function_name = test_name\n",
    "\n",
    "# Dynamically import the module\n",
    "module = importlib.import_module(module_name)\n",
    "function = getattr(module, function_name)\n",
    "\n",
    "executor2 = AbstractExecutor(function)\n",
    "\n",
    "coverage_data = executor2._execute_input(file_name_check)\n",
    "print(coverage_data)"
   ]
  },
  {
   "cell_type": "code",
   "execution_count": 11,
   "metadata": {},
   "outputs": [
    {
     "name": "stdout",
     "output_type": "stream",
     "text": [
      "{'input': None, 'exceptions': 0, 'execution_time': 0.0005190372467041016, 'coverage': {'covered_lines': 10, 'num_statements': 14, 'percent_covered': 70.83333333333333, 'percent_covered_display': '71', 'missing_lines': 4, 'excluded_lines': 3, 'num_branches': 10, 'num_partial_branches': 3, 'covered_branches': 7, 'missing_branches': 3}}\n"
     ]
    }
   ],
   "source": [
    "from poly_llm.to_test.closest_integer import test_closest_integer\n",
    "\n",
    "function = test_closest_integer\n",
    "\n",
    "executor2 = AbstractExecutor(function)\n",
    "\n",
    "coverage_data = executor2._execute_input()\n",
    "print(coverage_data)"
   ]
  }
 ],
 "metadata": {
  "kernelspec": {
   "display_name": "lab4",
   "language": "python",
   "name": "python3"
  },
  "language_info": {
   "codemirror_mode": {
    "name": "ipython",
    "version": 3
   },
   "file_extension": ".py",
   "mimetype": "text/x-python",
   "name": "python",
   "nbconvert_exporter": "python",
   "pygments_lexer": "ipython3",
   "version": "3.9.18"
  }
 },
 "nbformat": 4,
 "nbformat_minor": 2
}
