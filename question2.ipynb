{
 "cells": [
  {
   "cell_type": "code",
   "execution_count": 1,
   "metadata": {},
   "outputs": [
    {
     "name": "stderr",
     "output_type": "stream",
     "text": [
      "/home/andre/anaconda3/envs/lab4/lib/python3.9/site-packages/tqdm/auto.py:21: TqdmWarning: IProgress not found. Please update jupyter and ipywidgets. See https://ipywidgets.readthedocs.io/en/stable/user_install.html\n",
      "  from .autonotebook import tqdm as notebook_tqdm\n"
     ]
    }
   ],
   "source": [
    "from poly_llm.to_test.file_name_check import file_name_check\n",
    "from poly_llm.to_test.closest_integer import closest_integer\n",
    "from poly_llm.common.abstract_executor import AbstractExecutor\n",
    "from poly_llm.common.prompt_generator import PromptGenerator\n",
    "from poly_llm.generators.llm_test_generator import LLMTestGenerator\n",
    "from transformers import AutoTokenizer, T5ForConditionalGeneration\n",
    "import json\n",
    "\n",
    "import importlib"
   ]
  },
  {
   "cell_type": "code",
   "execution_count": 3,
   "metadata": {},
   "outputs": [
    {
     "name": "stdout",
     "output_type": "stream",
     "text": [
      "{'covered_lines': 10, 'num_statements': 14, 'percent_covered': 70.83333333333333, 'percent_covered_display': '71', 'missing_lines': 4, 'excluded_lines': 3, 'num_branches': 10, 'num_partial_branches': 3, 'covered_branches': 7, 'missing_branches': 3}\n"
     ]
    }
   ],
   "source": [
    "from poly_llm.to_test.closest_integer import test_closest_integer\n",
    "\n",
    "function = test_closest_integer\n",
    "\n",
    "executor2 = AbstractExecutor(function)\n",
    "\n",
    "coverage_data = executor2._execute_input()\n",
    "print(coverage_data['coverage'])"
   ]
  },
  {
   "cell_type": "code",
   "execution_count": 4,
   "metadata": {},
   "outputs": [
    {
     "name": "stdout",
     "output_type": "stream",
     "text": [
      "{'covered_lines': 11, 'num_statements': 15, 'percent_covered': 74.07407407407408, 'percent_covered_display': '74', 'missing_lines': 4, 'excluded_lines': 4, 'num_branches': 12, 'num_partial_branches': 3, 'covered_branches': 9, 'missing_branches': 3}\n"
     ]
    }
   ],
   "source": [
    "from poly_llm.to_test.file_name_check import test_file_name_check\n",
    "\n",
    "function = test_file_name_check\n",
    "\n",
    "executor2 = AbstractExecutor(function)\n",
    "\n",
    "coverage_data = executor2._execute_input()\n",
    "print(coverage_data['coverage'])"
   ]
  },
  {
   "cell_type": "code",
   "execution_count": 5,
   "metadata": {},
   "outputs": [
    {
     "name": "stdout",
     "output_type": "stream",
     "text": [
      "{'covered_lines': 13, 'num_statements': 15, 'percent_covered': 92.0, 'percent_covered_display': '92', 'missing_lines': 2, 'excluded_lines': 3, 'num_branches': 10, 'num_partial_branches': 0, 'covered_branches': 10, 'missing_branches': 0}\n"
     ]
    }
   ],
   "source": [
    "from poly_llm.to_test.find_closest_elements import test_find_closest_elements\n",
    "\n",
    "function = test_find_closest_elements\n",
    "\n",
    "executor2 = AbstractExecutor(function)\n",
    "\n",
    "coverage_data = executor2._execute_input()\n",
    "print(coverage_data['coverage'])"
   ]
  },
  {
   "cell_type": "code",
   "execution_count": 6,
   "metadata": {},
   "outputs": [
    {
     "name": "stdout",
     "output_type": "stream",
     "text": [
      "{'covered_lines': 19, 'num_statements': 29, 'percent_covered': 65.45454545454545, 'percent_covered_display': '65', 'missing_lines': 10, 'excluded_lines': 3, 'num_branches': 26, 'num_partial_branches': 5, 'covered_branches': 17, 'missing_branches': 9}\n"
     ]
    }
   ],
   "source": [
    "from poly_llm.to_test.numerical_letter_grade import test_numerical_letter_grade\n",
    "\n",
    "function = test_numerical_letter_grade\n",
    "\n",
    "executor2 = AbstractExecutor(function)\n",
    "\n",
    "coverage_data = executor2._execute_input()\n",
    "print(coverage_data['coverage'])"
   ]
  },
  {
   "cell_type": "code",
   "execution_count": 7,
   "metadata": {},
   "outputs": [
    {
     "name": "stdout",
     "output_type": "stream",
     "text": [
      "{'covered_lines': 14, 'num_statements': 16, 'percent_covered': 91.66666666666667, 'percent_covered_display': '92', 'missing_lines': 2, 'excluded_lines': 3, 'num_branches': 8, 'num_partial_branches': 0, 'covered_branches': 8, 'missing_branches': 0}\n"
     ]
    }
   ],
   "source": [
    "from poly_llm.to_test.separate_paren_groups import test_separate_paren_groups\n",
    "\n",
    "function = test_separate_paren_groups\n",
    "\n",
    "executor2 = AbstractExecutor(function)\n",
    "\n",
    "coverage_data = executor2._execute_input()\n",
    "print(coverage_data['coverage'])"
   ]
  },
  {
   "cell_type": "markdown",
   "metadata": {},
   "source": [
    "Question 2.2. Promt the LLM using the zero-shot technique to generate unit tests\n",
    "for the 5 PUTs. Use ”PromptGenerator” class to produce the prompts."
   ]
  },
  {
   "cell_type": "code",
   "execution_count": null,
   "metadata": {},
   "outputs": [],
   "source": [
    "executor = AbstractExecutor(closest_integer)\n",
    "prompt_generator = PromptGenerator(closest_integer)\n",
    "\n",
    "model_name = \"codellama/CodeLlama-7b-Python-hf\"\n",
    "tokenizer = AutoTokenizer.from_pretrained(model_name) #tokenizer#AutoTokenizer.from_pretrained(\"codellama/CodeLlama-7b-Python-hf\")#\n",
    "model = T5ForConditionalGeneration.from_pretrained(model_name) \n",
    "\n",
    "llm_generator = LLMTestGenerator(model, tokenizer, closest_integer)\n",
    "prompt = prompt_generator.generate_prompt()\n",
    "\n",
    "print(f\"THE PROMPT {prompt}\")\n",
    "test, test_name = llm_generator.create_test_function(prompt)"
   ]
  }
 ],
 "metadata": {
  "kernelspec": {
   "display_name": "lab4",
   "language": "python",
   "name": "python3"
  },
  "language_info": {
   "codemirror_mode": {
    "name": "ipython",
    "version": 3
   },
   "file_extension": ".py",
   "mimetype": "text/x-python",
   "name": "python",
   "nbconvert_exporter": "python",
   "pygments_lexer": "ipython3",
   "version": "3.9.18"
  }
 },
 "nbformat": 4,
 "nbformat_minor": 2
}
